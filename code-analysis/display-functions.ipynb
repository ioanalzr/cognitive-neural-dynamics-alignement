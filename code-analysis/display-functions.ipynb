{
 "cells": [
  {
   "cell_type": "code",
   "execution_count": 1,
   "id": "4f6a306d",
   "metadata": {},
   "outputs": [],
   "source": [
    "import os\n",
    "import ast\n",
    "import re"
   ]
  },
  {
   "cell_type": "code",
   "execution_count": 2,
   "id": "2bb19517",
   "metadata": {},
   "outputs": [],
   "source": [
    "def extract_functions(filename):\n",
    "    functions = []\n",
    "    with open(filename, 'r') as file:\n",
    "        tree = ast.parse(file.read())\n",
    "        for node in ast.walk(tree):\n",
    "            if isinstance(node, (ast.FunctionDef, ast.AsyncFunctionDef)):\n",
    "                functions.append(node.name)\n",
    "    return functions"
   ]
  },
  {
   "cell_type": "code",
   "execution_count": 3,
   "id": "f6156cbd",
   "metadata": {},
   "outputs": [],
   "source": [
    "def list_functions_in_modules(root_directory, output_file):\n",
    "    module_pattern = r'.*\\.py$'\n",
    "    modules = [os.path.join(root, name)\n",
    "               for root, dirs, files in os.walk(root_directory)\n",
    "               for name in files\n",
    "               if re.match(module_pattern, name)]\n",
    "    with open(output_file, 'w') as f:\n",
    "        for module in modules:\n",
    "            module_name = module.replace(root_directory+\"/\",\"\")\n",
    "            f.write(f\"Functions in {module_name}:\\n\")\n",
    "            functions = extract_functions(module)\n",
    "            for func in functions:\n",
    "                f.write(f\"  {func}\\n\")\n",
    "            "
   ]
  },
  {
   "cell_type": "code",
   "execution_count": 4,
   "id": "959ec04c",
   "metadata": {},
   "outputs": [],
   "source": [
    "repository_directory = '/Users/ioanalazar/Desktop/Y4Imperial/cognitive-neural-dynamics-alignement'\n",
    "output_filename = 'function_list.txt'\n",
    "list_functions_in_modules(repository_directory,output_filename)"
   ]
  },
  {
   "cell_type": "code",
   "execution_count": null,
   "id": "8e6046ba",
   "metadata": {},
   "outputs": [],
   "source": []
  }
 ],
 "metadata": {
  "kernelspec": {
   "display_name": "Python 3 (ipykernel)",
   "language": "python",
   "name": "python3"
  },
  "language_info": {
   "codemirror_mode": {
    "name": "ipython",
    "version": 3
   },
   "file_extension": ".py",
   "mimetype": "text/x-python",
   "name": "python",
   "nbconvert_exporter": "python",
   "pygments_lexer": "ipython3",
   "version": "3.9.13"
  }
 },
 "nbformat": 4,
 "nbformat_minor": 5
}
